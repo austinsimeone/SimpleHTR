{
 "cells": [
  {
   "cell_type": "markdown",
   "metadata": {},
   "source": [
    "June 3rd, 2020:\n",
    "The goal of this notebook is to create a process by which I can easily label photos of words that I have taken. It will take user input and turn it into something that is similiar to the IAM database. I am not sure that it has to be that complicated but there will be improvements in the future\n",
    "One addition to be made will the ability to segment a particular line so that I can better identify what lines on a page look like."
   ]
  },
  {
   "cell_type": "code",
   "execution_count": 1,
   "metadata": {},
   "outputs": [],
   "source": [
    "from IPython.display import Image, display\n",
    "import os\n",
    "import cv2\n",
    "from django.utils.crypto import get_random_string\n",
    "import pandas as pd\n",
    "import shutil\n",
    "import datetime"
   ]
  },
  {
   "cell_type": "code",
   "execution_count": 2,
   "metadata": {},
   "outputs": [],
   "source": [
    "def getListOfFiles(dirName):\n",
    "    '''\n",
    "    For the given path, get the List of all \n",
    "    files in the directory tree \n",
    "    '''\n",
    "    # create a list of file and sub directories \n",
    "    # names in the given directory \n",
    "    listOfFile = os.listdir(dirName)\n",
    "    allFiles = list()\n",
    "    # Iterate over all the entries\n",
    "    for entry in listOfFile:\n",
    "        # Create full path\n",
    "        fullPath = os.path.join(dirName, entry)\n",
    "        # If entry is a directory then get the list of files in this directory \n",
    "        if os.path.isdir(fullPath):\n",
    "            allFiles = allFiles + getListOfFiles(fullPath)\n",
    "        else:\n",
    "            allFiles.append(fullPath)\n",
    "            \n",
    "    return allFiles"
   ]
  },
  {
   "cell_type": "code",
   "execution_count": 3,
   "metadata": {},
   "outputs": [],
   "source": [
    "csvdir = '/home/austin/Documents/Github/SimpleHTR/words_csv/'\n",
    "dirName = '/home/austin/Documents/Github/SimpleHTR/words_screenshot/'\n",
    "labeldir = '/home/austin/Documents/Github/SimpleHTR/words_screenshot_labeled/'"
   ]
  },
  {
   "cell_type": "code",
   "execution_count": 4,
   "metadata": {
    "scrolled": true
   },
   "outputs": [],
   "source": [
    "fileList = getListOfFiles(dirName)"
   ]
  },
  {
   "cell_type": "code",
   "execution_count": 5,
   "metadata": {},
   "outputs": [],
   "source": [
    "def CreateImageLabel(file):\n",
    "    display(Image(filename=file))\n",
    "    height, width = cv2.imread(file).shape[0:2]\n",
    "    truth = input('What word is this?: ')\n",
    "    new_id = get_random_string(10)\n",
    "    file_name = new_id + '.png'\n",
    "    print('height: ' + str(height))\n",
    "    print('width: ' + str(width))\n",
    "    print('truth: ' + truth)\n",
    "    while file_name in fileList:\n",
    "        new_id = get_random_string(10)\n",
    "    return([file_name,truth,height,width])"
   ]
  },
  {
   "cell_type": "code",
   "execution_count": 7,
   "metadata": {},
   "outputs": [
    {
     "data": {
      "image/png": "[encoded data removed]",
      "text/plain": [
       "<IPython.core.display.Image object>"
      ]
     },
     "metadata": {},
     "output_type": "display_data"
    },
    {
     "name": "stdout",
     "output_type": "stream",
     "text": [
      "What word is this?: quit\n",
      "height: 84\n",
      "width: 90\n",
      "truth: quit\n"
     ]
    }
   ],
   "source": [
    "df = pd.DataFrame(columns = ['file_name'\n",
    "                            , 'truth'\n",
    "                            , 'height'\n",
    "                            , 'width'])\n",
    "image_label = []\n",
    "next_image = 'no'\n",
    "truth = '...'\n",
    "for file in fileList:\n",
    "    if next_image == 'quit' or truth == 'quit':\n",
    "        df.to_csv('csvdir'+str(datetime.datetime.now())+'.csv')\n",
    "        break\n",
    "    next_image = 'no'\n",
    "    while next_image == 'no':\n",
    "        image_label = CreateImageLabel(file)\n",
    "        truth = image_label[1]\n",
    "        if truth == 'quit':\n",
    "            break\n",
    "        next_image = input('does this look right?: ')\n",
    "    shutil.move(file,labeldir+image_label[0])\n",
    "    df.loc[len(df)] = image_label"
   ]
  },
  {
   "cell_type": "code",
   "execution_count": null,
   "metadata": {},
   "outputs": [],
   "source": []
  }
 ],
 "metadata": {
  "kernelspec": {
   "display_name": "Python 3",
   "language": "python",
   "name": "python3"
  },
  "language_info": {
   "codemirror_mode": {
    "name": "ipython",
    "version": 3
   },
   "file_extension": ".py",
   "mimetype": "text/x-python",
   "name": "python",
   "nbconvert_exporter": "python",
   "pygments_lexer": "ipython3",
   "version": "3.7.7"
  }
 },
 "nbformat": 4,
 "nbformat_minor": 4
}
