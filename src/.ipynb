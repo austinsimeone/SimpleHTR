{
 "cells": [
  {
   "cell_type": "code",
   "execution_count": 65,
   "metadata": {},
   "outputs": [],
   "source": [
    "from __future__ import division\n",
    "from __future__ import print_function\n",
    "\n",
    "from PIL import Image\n",
    "import random\n",
    "import numpy as np\n",
    "import cv2\n",
    "from matplotlib import pyplot as plt"
   ]
  },
  {
   "cell_type": "code",
   "execution_count": 66,
   "metadata": {},
   "outputs": [],
   "source": [
    "def binarize_array(numpy_array, threshold=75):\n",
    "    \"\"\"Binarize a numpy array.\"\"\"\n",
    "    for i in range(len(numpy_array)):\n",
    "        for j in range(len(numpy_array[0])):\n",
    "            if numpy_array[i][j] > threshold:\n",
    "                numpy_array[i][j] = 255\n",
    "            else:\n",
    "                numpy_array[i][j] = 0\n",
    "    return numpy_array\n",
    "\n",
    "def binarize_image(img_path, threshold = 75):\n",
    "    \"\"\"Binarize an image.\"\"\"\n",
    "    image_file = Image.open(img_path)\n",
    "    image = image_file.convert('L')  # convert image to monochrome\n",
    "    image = np.array(image)\n",
    "    image = binarize_array(image, threshold)\n",
    "    return(image)\n",
    "    #make sure to change this to something that is inputable in the NN"
   ]
  },
  {
   "cell_type": "code",
   "execution_count": 67,
   "metadata": {},
   "outputs": [],
   "source": [
    "def preprocess(img, imgSize, dataAugmentation=False):\n",
    "    \"put img into target img of size imgSize, transpose for TF and normalize gray-values\"\n",
    "\n",
    "    # there are damaged files in IAM dataset - just use black image instead\n",
    "    if img is None:\n",
    "        img = np.zeros([imgSize[1], imgSize[0]])\n",
    "\n",
    "    # increase dataset size by applying random stretches to the images\n",
    "    if dataAugmentation:\n",
    "        stretch = (random.random() - 0.5) # -0.5 .. +0.5\n",
    "        wStretched = max(int(img.shape[1] * (1 + stretch)), 1) # random width, but at least 1\n",
    "        img = cv2.resize(img, (wStretched, img.shape[0])) # stretch horizontally by factor 0.5 .. 1.5\n",
    "\n",
    "    # create target image and copy sample image into it\n",
    "    (wt, ht) = imgSize\n",
    "    (h, w) = img.shape\n",
    "    fx = w / wt\n",
    "    fy = h / ht\n",
    "    f = max(fx, fy)\n",
    "    newSize = (max(min(wt, int(w / f)), 1), max(min(ht, int(h / f)), 1)) # scale according to f (result at least 1 and at most wt or ht)\n",
    "    img = cv2.resize(img, newSize)\n",
    "    target = np.ones([ht, wt]) * 255\n",
    "    target[0:newSize[1], 0:newSize[0]] = img\n",
    "\n",
    "    # normalize\n",
    "    (m, s) = cv2.meanStdDev(img)\n",
    "    m = m[0][0]\n",
    "    s = s[0][0]\n",
    "    img = img - m\n",
    "    img = img / s if s>0 else img\n",
    "    return img"
   ]
  },
  {
   "cell_type": "code",
   "execution_count": 68,
   "metadata": {},
   "outputs": [],
   "source": [
    "sample_image = '/home/austin/Documents/Github/SimpleHTR/words_screenshot_labeled/8Hp7xmjAdT.png'"
   ]
  },
  {
   "cell_type": "code",
   "execution_count": 69,
   "metadata": {},
   "outputs": [
    {
     "data": {
      "image/png": "[encoded data removed]",
      "text/plain": [
       "<Figure size 432x288 with 1 Axes>"
      ]
     },
     "metadata": {
      "needs_background": "light"
     },
     "output_type": "display_data"
    }
   ],
   "source": [
    "plt.imshow(preprocess(binarize_image(sample_image),[128,128]),interpolation='nearest')\n",
    "plt.show()"
   ]
  },
  {
   "cell_type": "code",
   "execution_count": null,
   "metadata": {},
   "outputs": [],
   "source": []
  }
 ],
 "metadata": {
  "kernelspec": {
   "display_name": "Python 3",
   "language": "python",
   "name": "python3"
  },
  "language_info": {
   "codemirror_mode": {
    "name": "ipython",
    "version": 3
   },
   "file_extension": ".py",
   "mimetype": "text/x-python",
   "name": "python",
   "nbconvert_exporter": "python",
   "pygments_lexer": "ipython3",
   "version": "3.7.7"
  }
 },
 "nbformat": 4,
 "nbformat_minor": 4
}
